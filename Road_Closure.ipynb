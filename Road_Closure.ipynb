{
 "cells": [
  {
   "cell_type": "code",
   "execution_count": 2,
   "metadata": {},
   "outputs": [],
   "source": [
    "import pandas as pd\n",
    "import requests\n",
    "from bs4 import BeautifulSoup"
   ]
  },
  {
   "cell_type": "code",
   "execution_count": 3,
   "metadata": {},
   "outputs": [],
   "source": [
    "url_road_closure = 'https://www.skagitcounty.net/Reporting/RoadClose/'\n",
    "res_rc = requests.get(url_road_closure)"
   ]
  },
  {
   "cell_type": "code",
   "execution_count": 4,
   "metadata": {},
   "outputs": [
    {
     "data": {
      "text/plain": [
       "200"
      ]
     },
     "execution_count": 4,
     "metadata": {},
     "output_type": "execute_result"
    }
   ],
   "source": [
    "res_rc.status_code"
   ]
  },
  {
   "cell_type": "code",
   "execution_count": 5,
   "metadata": {},
   "outputs": [],
   "source": [
    "soup_rc = BeautifulSoup(res_rc.content, 'lxml')"
   ]
  },
  {
   "cell_type": "code",
   "execution_count": 6,
   "metadata": {},
   "outputs": [],
   "source": [
    "table = soup_rc.find('table', attrs = {'class': 'gridinfo mobile'})\n",
    "road_closure = {\"road_name\": []}\n",
    "road_names = []\n",
    "road_condition = {'condition': []}\n",
    "conditions = []\n",
    "road_from = {'from': []}\n",
    "froms = []\n",
    "road_to = {'to': []}\n",
    "tos = []\n",
    "road_closed_date = {'closed_date': []}\n",
    "closed_dates = []\n",
    "road_closed_time = {'closed_time': []}\n",
    "closed_times = []\n",
    "road_open_date = {'open_date': []}\n",
    "open_dates = []\n",
    "road_open_time = {'open_time': []}\n",
    "open_times = []\n",
    "road_last_updated = {'last_updated': []}\n",
    "last_updates = []\n",
    "# Kenya helped set up first rendition\n",
    "for row in table.find_all('td'):\n",
    "    road_names.append(str(row.find('span')).split('<br/>')[0].split('>')[1].split('Name: ')[1])\n",
    "    conditions.append(str(row.find('span')).split('<br/>')[1].split(\"Condition: \")[1])\n",
    "    froms.append(str(row.find('span')).split('<br/>')[2].split(\"From: \")[1])\n",
    "    tos.append(str(row.find('span')).split('<br/>')[3].split(\"To: \")[1])\n",
    "    closed_dates.append(str(row.find('span')).split('<br/>')[4].split(\"Closed Date: \")[1])\n",
    "    closed_times.append(str(row.find('span')).split('<br/>')[5].split(\"Closed Time: \")[1])\n",
    "    open_dates.append(str(row.find('span')).split('<br/>')[6].split(\"Opened Date: \")[1])\n",
    "    open_times.append(str(row.find('span')).split('<br/>')[7].split(\"Opened Time: \")[1])\n",
    "    last_updates.append(str(row.find('span')).split('<br/>')[8].split(\"Last Updated: \")[1])\n",
    "# Richard helped set up first rendition\n",
    "    \n",
    "road_closure[\"road_name\"] = road_names\n",
    "road_closed = pd.DataFrame(road_closure, columns = [\"road_name\"])\n",
    "road_condition['condition'] = conditions\n",
    "road_conditions = pd.DataFrame(road_condition, columns = ['condition'])\n",
    "road_from['from'] = froms\n",
    "road_froms = pd.DataFrame(road_from, columns = ['from'])\n",
    "road_to['to'] = tos\n",
    "road_tos = pd.DataFrame(road_to, columns = ['to'])\n",
    "road_closed_date['closed_date'] = closed_dates\n",
    "roads_closed_dates = pd.DataFrame(road_closed_date, columns = ['closed_date'])\n",
    "road_closed_time['closed_time'] = closed_times\n",
    "roads_closed_times = pd.DataFrame(road_closed_time, columns = ['closed_time'])\n",
    "road_open_date['open_date'] = open_dates\n",
    "roads_open_dates = pd.DataFrame(road_open_date, columns = ['open_date'])\n",
    "road_open_time['open_time'] = open_times\n",
    "roads_open_times = pd.DataFrame(road_open_time, columns = ['open_time'])\n",
    "road_last_updated['last_updated'] = last_updates\n",
    "roads_last_updates = pd.DataFrame(road_last_updated, columns = ['last_updated'])\n",
    "\n",
    "road_closure_info = road_closed.join([road_conditions, road_froms, road_tos, roads_closed_dates, roads_closed_times,\n",
    "                                      roads_open_dates, roads_open_times, roads_last_updates])"
   ]
  },
  {
   "cell_type": "code",
   "execution_count": 7,
   "metadata": {},
   "outputs": [
    {
     "data": {
      "text/html": [
       "<div>\n",
       "<style scoped>\n",
       "    .dataframe tbody tr th:only-of-type {\n",
       "        vertical-align: middle;\n",
       "    }\n",
       "\n",
       "    .dataframe tbody tr th {\n",
       "        vertical-align: top;\n",
       "    }\n",
       "\n",
       "    .dataframe thead th {\n",
       "        text-align: right;\n",
       "    }\n",
       "</style>\n",
       "<table border=\"1\" class=\"dataframe\">\n",
       "  <thead>\n",
       "    <tr style=\"text-align: right;\">\n",
       "      <th></th>\n",
       "      <th>road_name</th>\n",
       "      <th>condition</th>\n",
       "      <th>from</th>\n",
       "      <th>to</th>\n",
       "      <th>closed_date</th>\n",
       "      <th>closed_time</th>\n",
       "      <th>open_date</th>\n",
       "      <th>open_time</th>\n",
       "      <th>last_updated</th>\n",
       "    </tr>\n",
       "  </thead>\n",
       "  <tbody>\n",
       "    <tr>\n",
       "      <th>0</th>\n",
       "      <td>Grassmere Road</td>\n",
       "      <td>Culvert problems</td>\n",
       "      <td>Milepost 0.41</td>\n",
       "      <td>Resolution # 20140033</td>\n",
       "      <td>1/13/2014</td>\n",
       "      <td>Until Furt</td>\n",
       "      <td></td>\n",
       "      <td>TBD</td>\n",
       "      <td>2/11/2014 8:56 AM</td>\n",
       "    </tr>\n",
       "    <tr>\n",
       "      <th>1</th>\n",
       "      <td>Challenger Road</td>\n",
       "      <td>Roadside Sloughing</td>\n",
       "      <td>43409 Challenger Road</td>\n",
       "      <td>State Route 20 East end</td>\n",
       "      <td>2/17/2015</td>\n",
       "      <td>Until Furt</td>\n",
       "      <td></td>\n",
       "      <td>TBD</td>\n",
       "      <td>5/7/2015 7:56 AM</td>\n",
       "    </tr>\n",
       "    <tr>\n",
       "      <th>2</th>\n",
       "      <td>Edens  Rd</td>\n",
       "      <td>Water over Roadway</td>\n",
       "      <td>Section Ave</td>\n",
       "      <td>Nootka Ln</td>\n",
       "      <td></td>\n",
       "      <td></td>\n",
       "      <td></td>\n",
       "      <td>TBD</td>\n",
       "      <td>1/31/2020 12:07 PM</td>\n",
       "    </tr>\n",
       "    <tr>\n",
       "      <th>3</th>\n",
       "      <td>Satterlee Rd</td>\n",
       "      <td>Water over Road</td>\n",
       "      <td>Christianson Rd</td>\n",
       "      <td>South Green Street</td>\n",
       "      <td></td>\n",
       "      <td></td>\n",
       "      <td></td>\n",
       "      <td>TBD</td>\n",
       "      <td>1/20/2020 12:10 PM</td>\n",
       "    </tr>\n",
       "    <tr>\n",
       "      <th>4</th>\n",
       "      <td>Fox Road</td>\n",
       "      <td>Water over Road / CLOSED</td>\n",
       "      <td>24063 Fox Road</td>\n",
       "      <td>Dead end</td>\n",
       "      <td>2/6/2020</td>\n",
       "      <td></td>\n",
       "      <td></td>\n",
       "      <td></td>\n",
       "      <td>2/6/2020 11:19 AM</td>\n",
       "    </tr>\n",
       "  </tbody>\n",
       "</table>\n",
       "</div>"
      ],
      "text/plain": [
       "         road_name                 condition                   from  \\\n",
       "0   Grassmere Road          Culvert problems          Milepost 0.41   \n",
       "1  Challenger Road        Roadside Sloughing  43409 Challenger Road   \n",
       "2        Edens  Rd        Water over Roadway            Section Ave   \n",
       "3     Satterlee Rd           Water over Road        Christianson Rd   \n",
       "4         Fox Road  Water over Road / CLOSED         24063 Fox Road   \n",
       "\n",
       "                        to closed_date closed_time open_date open_time  \\\n",
       "0    Resolution # 20140033   1/13/2014  Until Furt                 TBD   \n",
       "1  State Route 20 East end   2/17/2015  Until Furt                 TBD   \n",
       "2                Nootka Ln                                         TBD   \n",
       "3       South Green Street                                         TBD   \n",
       "4                 Dead end    2/6/2020                                   \n",
       "\n",
       "         last_updated  \n",
       "0   2/11/2014 8:56 AM  \n",
       "1    5/7/2015 7:56 AM  \n",
       "2  1/31/2020 12:07 PM  \n",
       "3  1/20/2020 12:10 PM  \n",
       "4   2/6/2020 11:19 AM  "
      ]
     },
     "execution_count": 7,
     "metadata": {},
     "output_type": "execute_result"
    }
   ],
   "source": [
    "road_closure_info.head()"
   ]
  },
  {
   "cell_type": "code",
   "execution_count": 10,
   "metadata": {},
   "outputs": [],
   "source": [
    "road_closure_info.to_csv('road_closure.csv')"
   ]
  },
  {
   "cell_type": "code",
   "execution_count": null,
   "metadata": {},
   "outputs": [],
   "source": []
  }
 ],
 "metadata": {
  "kernelspec": {
   "display_name": "Python 3",
   "language": "python",
   "name": "python3"
  },
  "language_info": {
   "codemirror_mode": {
    "name": "ipython",
    "version": 3
   },
   "file_extension": ".py",
   "mimetype": "text/x-python",
   "name": "python",
   "nbconvert_exporter": "python",
   "pygments_lexer": "ipython3",
   "version": "3.7.3"
  }
 },
 "nbformat": 4,
 "nbformat_minor": 2
}
