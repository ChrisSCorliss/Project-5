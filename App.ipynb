{
 "cells": [
  {
   "cell_type": "code",
   "execution_count": 1,
   "metadata": {},
   "outputs": [],
   "source": [
    "import pandas as pd, numpy as mp, matplotlib.pyplot as plt, datetime as dt"
   ]
  },
  {
   "cell_type": "code",
   "execution_count": 2,
   "metadata": {},
   "outputs": [],
   "source": [
    "con = pd.read_csv('Datasets/cleaned_concrete_water.csv')\n",
    "mv = pd.read_csv('Datasets/cleaned_mount_vernon_water.csv')\n",
    "road_c = pd.read_csv('Datasets/Road_closure.csv')\n",
    "road_haz = pd.read_csv('Datasets/road_hazard.csv')"
   ]
  },
  {
   "cell_type": "code",
   "execution_count": 3,
   "metadata": {},
   "outputs": [],
   "source": [
    "con['datetime'] = pd.to_datetime(con['datetime'])\n",
    "mv['datetime'] = pd.to_datetime(mv['datetime'])\n",
    "road_c.drop('Unnamed: 0', axis = 1, inplace = True)\n",
    "road_haz.drop('Unnamed: 0', axis = 1, inplace = True)"
   ]
  },
  {
   "cell_type": "code",
   "execution_count": 4,
   "metadata": {},
   "outputs": [
    {
     "name": "stdout",
     "output_type": "stream",
     "text": [
      "Enter the First Letter of your City Name: c\n",
      "Enter Date & Time Rounded to the previous Quarter Hour (Format = mm-dd HH:MM): 12-12 12:00\n"
     ]
    }
   ],
   "source": [
    "city = input('Enter the First Letter of your City Name: ')\n",
    "clock = input('Enter Date & Time Rounded to the previous Quarter Hour (Format = mm-dd HH:MM): ')\n",
    "# any date before the 20th of February 2020"
   ]
  },
  {
   "cell_type": "code",
   "execution_count": 5,
   "metadata": {},
   "outputs": [],
   "source": [
    "clock = '2019-' + clock +':00'"
   ]
  },
  {
   "cell_type": "code",
   "execution_count": 6,
   "metadata": {},
   "outputs": [],
   "source": [
    "clock = pd.to_datetime(clock,\n",
    "               format = '%Y%m%d %H:%M:%S')"
   ]
  },
  {
   "cell_type": "code",
   "execution_count": 7,
   "metadata": {},
   "outputs": [
    {
     "name": "stdout",
     "output_type": "stream",
     "text": [
      "       city            datetime timezone  discharge  gauge_lvl\n",
      "0  Concrete 2019-12-12 12:00:00      PST     9660.0      16.36\n",
      "\n",
      "\n",
      "No Immediate danger but keep a wary eye\n",
      "\n",
      "\n",
      "         road_name                 condition                   from  \\\n",
      "0   Grassmere Road          Culvert problems          Milepost 0.41   \n",
      "1  Challenger Road        Roadside Sloughing  43409 Challenger Road   \n",
      "2        Edens  Rd        Water over Roadway            Section Ave   \n",
      "3     Satterlee Rd           Water over Road        Christianson Rd   \n",
      "4         Fox Road  Water over Road / CLOSED         24063 Fox Road   \n",
      "\n",
      "                        to closed_date closed_time  open_date open_time  \\\n",
      "0    Resolution # 20140033   1/13/2014  Until Furt        NaN       TBD   \n",
      "1  State Route 20 East end   2/17/2015  Until Furt        NaN       TBD   \n",
      "2                Nootka Ln         NaN         NaN        NaN       TBD   \n",
      "3       South Green Street         NaN         NaN        NaN       TBD   \n",
      "4                 Dead end    2/6/2020         NaN        NaN       NaN   \n",
      "\n",
      "         last_updated  \n",
      "0   2/11/2014 8:56 AM  \n",
      "1    5/7/2015 7:56 AM  \n",
      "2  1/31/2020 12:07 PM  \n",
      "3  1/20/2020 12:10 PM  \n",
      "4   2/6/2020 11:19 AM  \n",
      "                 road_name                                condition  \\\n",
      "0  Concrete Sauk Valley Rd  Shoulder Erosion: Westbound Lane Closed   \n",
      "1           Beaver Lake Rd                   Water over Road / OPEN   \n",
      "2                Fonk Road                   Water over Road / OPEN   \n",
      "3                 Fox Road                   Water over Road / OPEN   \n",
      "4              Colony Road                   Water over Road / OPEN   \n",
      "5           Beaver Lake Rd                   Water over Road / OPEN   \n",
      "6   Hamilton Cemetery Road                   Water over Road / OPEN   \n",
      "7              Starbird Rd                   Water over Road / OPEN   \n",
      "8                  Tyee Rd                   Water over Road / OPEN   \n",
      "9              Thomas Road                   Water over Road / OPEN   \n",
      "\n",
      "                                from                 to closed_date  \\\n",
      "0                       Mile post 13                NaN    1/6/2015   \n",
      "1                  Turner Creek Area                NaN         NaN   \n",
      "2          Beaver Lake Rd at Fonk Rd                NaN         NaN   \n",
      "3             East of Beaver Lake Rd                NaN         NaN   \n",
      "4  Colony Mountain Drive/Colony Road  15485 Colony Road         NaN   \n",
      "5               13578 Beaver Lake Rd                NaN         NaN   \n",
      "6   West end of Hamilton Cemetery Rd    North of HWY 20         NaN   \n",
      "7                  21040 Starbird Rd  21376 Starbird Rd         NaN   \n",
      "8                      21401 Tyee Rd      21290 Tyee Rd         NaN   \n",
      "9                9609 Thomas Rd area     9359 Thomas Rd         NaN   \n",
      "\n",
      "  closed_time  open_date open_time         last_updated  \n",
      "0     3:14 PM        NaN       TBD     5/7/2015 7:53 AM  \n",
      "1         NaN        NaN       NaN   11/18/2019 9:03 AM  \n",
      "2         NaN        NaN       NaN  12/20/2019 12:57 PM  \n",
      "3         NaN        NaN       NaN   12/31/2019 2:34 PM  \n",
      "4         NaN        NaN       NaN     1/2/2020 7:28 AM  \n",
      "5         NaN        NaN       NaN     1/6/2020 1:07 PM  \n",
      "6         NaN        NaN       NaN    1/13/2020 9:50 AM  \n",
      "7         NaN        NaN       NaN    2/5/2020 12:48 PM  \n",
      "8         NaN        NaN       NaN    2/5/2020 12:53 PM  \n",
      "9         NaN        NaN       NaN     2/6/2020 9:33 AM  \n"
     ]
    }
   ],
   "source": [
    "if city.lower() == 'c':\n",
    "    find_clock_c = con.loc[con['datetime'] == (clock),:].reset_index(drop = True)\n",
    "    print(find_clock_c)\n",
    "    print()\n",
    "    print()\n",
    "    if (find_clock_c.loc[0,'gauge_lvl'] < (27.99)):\n",
    "        print('No Immediate danger but keep a wary eye')\n",
    "    elif (find_clock_c.loc[0,'gauge_lvl'] >= (28.00)) or (find_clock_c.loc[0,'gauge_lvl']<= (32.00)):\n",
    "        print('Phase 1 Flood')\n",
    "    elif (find_clock_c.loc[0,'gauge_lvl'] >= (32.01)) or (find_clock_c.loc[0,'gauge_lvl'] <= (37.00)):\n",
    "        print('Phase 2 Flood')\n",
    "    else: \n",
    "        print('Phase 3 Flood')\n",
    "    print()\n",
    "    print()\n",
    "    print(road_c)\n",
    "    print(road_haz)\n",
    "else:\n",
    "    find_clock_m = mv.loc[mv['datetime'] == (clock),:].reset_index(drop = True)\n",
    "    print(find_clock_m)\n",
    "    print()\n",
    "    print()\n",
    "    if (find_clock_m.loc[0,'gauge_lvl'] < (27.99)):\n",
    "        print('No Immediate danger but keep a wary eye')\n",
    "    elif (find_clock_m.loc[0,'gauge_lvl'] >= (28.00)) or (find_clock_m.loc[0,'gauge_lvl']<= (32.00)):\n",
    "        print('Phase 1 Flood')\n",
    "    elif (find_clock_m.loc[0,'gauge_lvl'] >= (32.01)) or (find_clock_m.loc[0,'gauge_lvl'] <= (35.60)):\n",
    "        print('Phase 2 Flood')\n",
    "    else: \n",
    "        print('Phase 3 Flood')\n",
    "    print()\n",
    "    print()\n",
    "    print(road_c)\n",
    "    print(road_haz)"
   ]
  },
  {
   "cell_type": "code",
   "execution_count": null,
   "metadata": {},
   "outputs": [],
   "source": []
  }
 ],
 "metadata": {
  "kernelspec": {
   "display_name": "Python 3",
   "language": "python",
   "name": "python3"
  },
  "language_info": {
   "codemirror_mode": {
    "name": "ipython",
    "version": 3
   },
   "file_extension": ".py",
   "mimetype": "text/x-python",
   "name": "python",
   "nbconvert_exporter": "python",
   "pygments_lexer": "ipython3",
   "version": "3.7.4"
  }
 },
 "nbformat": 4,
 "nbformat_minor": 2
}
