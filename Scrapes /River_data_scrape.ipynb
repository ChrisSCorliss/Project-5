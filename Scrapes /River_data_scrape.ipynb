{
 "cells": [
  {
   "cell_type": "code",
   "execution_count": 1,
   "metadata": {},
   "outputs": [],
   "source": [
    "import pandas as pd, requests\n",
    "from bs4 import BeautifulSoup"
   ]
  },
  {
   "cell_type": "code",
   "execution_count": 2,
   "metadata": {},
   "outputs": [],
   "source": [
    "# url = 'https://waterdata.usgs.gov/wa/nwis/uv?cb_all_=on&cb_00060=on&cb_00065=on&format=rdb&site_no=12194000&period=&begin_date=2020-01-31&end_date=2020-02-16'\n",
    "\n",
    "# res = requests.get(url)\n",
    "\n",
    "# res.status_code\n",
    "\n",
    "# con_soup = BeautifulSoup(res.content, 'html')\n",
    "\n",
    "# con_table_body = con_soup.find('body')\n",
    "# waters = []\n",
    "# for row in con_table_body.find('pre')\n",
    "#     water = {}\n",
    "#     water['date/time'] = row.find('td').text\n",
    "#     water['discharge'] = row.find('span').text\n",
    "#     water['gauge_h'] = row.find_all('span').text\n",
    "#     waters.append(water)\n",
    "\n",
    "#     print(water)\n",
    "# con_df = pd.DataFrame(waters)\n",
    "\n",
    "# con_table_body.save('concrete.txt')"
   ]
  },
  {
   "cell_type": "code",
   "execution_count": 3,
   "metadata": {},
   "outputs": [],
   "source": [
    "# with open('con.txt', 'r') as f:\n",
    "#     text = f.readlines()"
   ]
  },
  {
   "cell_type": "code",
   "execution_count": 4,
   "metadata": {},
   "outputs": [],
   "source": [
    "con = pd.read_csv('Text_files/con_2.txt', sep = '\\t')\n",
    "mv = pd.read_csv('Text_files/mv_2.txt', sep = '\\t')"
   ]
  },
  {
   "cell_type": "code",
   "execution_count": 5,
   "metadata": {
    "scrolled": true
   },
   "outputs": [
    {
     "data": {
      "text/html": [
       "<div>\n",
       "<style scoped>\n",
       "    .dataframe tbody tr th:only-of-type {\n",
       "        vertical-align: middle;\n",
       "    }\n",
       "\n",
       "    .dataframe tbody tr th {\n",
       "        vertical-align: top;\n",
       "    }\n",
       "\n",
       "    .dataframe thead th {\n",
       "        text-align: right;\n",
       "    }\n",
       "</style>\n",
       "<table border=\"1\" class=\"dataframe\">\n",
       "  <thead>\n",
       "    <tr style=\"text-align: right;\">\n",
       "      <th></th>\n",
       "      <th>agency_cd</th>\n",
       "      <th>city</th>\n",
       "      <th>datetime</th>\n",
       "      <th>timezone</th>\n",
       "      <th>discharge</th>\n",
       "      <th>151437_00060_cd</th>\n",
       "      <th>gauge_lvl</th>\n",
       "      <th>151438_00065_cd</th>\n",
       "    </tr>\n",
       "  </thead>\n",
       "  <tbody>\n",
       "    <tr>\n",
       "      <th>0</th>\n",
       "      <td>USGS</td>\n",
       "      <td>12194000</td>\n",
       "      <td>2007-10-01 00:00</td>\n",
       "      <td>PDT</td>\n",
       "      <td>8140</td>\n",
       "      <td>A:[91]</td>\n",
       "      <td>NaN</td>\n",
       "      <td>NaN</td>\n",
       "    </tr>\n",
       "    <tr>\n",
       "      <th>1</th>\n",
       "      <td>USGS</td>\n",
       "      <td>12194000</td>\n",
       "      <td>2007-10-01 00:15</td>\n",
       "      <td>PDT</td>\n",
       "      <td>8170</td>\n",
       "      <td>A:[91]</td>\n",
       "      <td>NaN</td>\n",
       "      <td>NaN</td>\n",
       "    </tr>\n",
       "    <tr>\n",
       "      <th>2</th>\n",
       "      <td>USGS</td>\n",
       "      <td>12194000</td>\n",
       "      <td>2007-10-01 00:30</td>\n",
       "      <td>PDT</td>\n",
       "      <td>8270</td>\n",
       "      <td>A:[91]</td>\n",
       "      <td>NaN</td>\n",
       "      <td>NaN</td>\n",
       "    </tr>\n",
       "    <tr>\n",
       "      <th>3</th>\n",
       "      <td>USGS</td>\n",
       "      <td>12194000</td>\n",
       "      <td>2007-10-01 00:45</td>\n",
       "      <td>PDT</td>\n",
       "      <td>8270</td>\n",
       "      <td>A:[91]</td>\n",
       "      <td>NaN</td>\n",
       "      <td>NaN</td>\n",
       "    </tr>\n",
       "    <tr>\n",
       "      <th>4</th>\n",
       "      <td>USGS</td>\n",
       "      <td>12194000</td>\n",
       "      <td>2007-10-01 01:00</td>\n",
       "      <td>PDT</td>\n",
       "      <td>8350</td>\n",
       "      <td>A:[0]</td>\n",
       "      <td>15.87</td>\n",
       "      <td>A</td>\n",
       "    </tr>\n",
       "  </tbody>\n",
       "</table>\n",
       "</div>"
      ],
      "text/plain": [
       "  agency_cd      city          datetime timezone  discharge 151437_00060_cd  \\\n",
       "0      USGS  12194000  2007-10-01 00:00      PDT       8140          A:[91]   \n",
       "1      USGS  12194000  2007-10-01 00:15      PDT       8170          A:[91]   \n",
       "2      USGS  12194000  2007-10-01 00:30      PDT       8270          A:[91]   \n",
       "3      USGS  12194000  2007-10-01 00:45      PDT       8270          A:[91]   \n",
       "4      USGS  12194000  2007-10-01 01:00      PDT       8350           A:[0]   \n",
       "\n",
       "   gauge_lvl 151438_00065_cd  \n",
       "0        NaN             NaN  \n",
       "1        NaN             NaN  \n",
       "2        NaN             NaN  \n",
       "3        NaN             NaN  \n",
       "4      15.87               A  "
      ]
     },
     "execution_count": 5,
     "metadata": {},
     "output_type": "execute_result"
    }
   ],
   "source": [
    "con.head()"
   ]
  },
  {
   "cell_type": "code",
   "execution_count": 6,
   "metadata": {},
   "outputs": [
    {
     "data": {
      "text/plain": [
       "agency_cd           object\n",
       "city                 int64\n",
       "datetime            object\n",
       "timezone            object\n",
       "discharge            int64\n",
       "151437_00060_cd     object\n",
       "gauge_lvl          float64\n",
       "151438_00065_cd     object\n",
       "dtype: object"
      ]
     },
     "execution_count": 6,
     "metadata": {},
     "output_type": "execute_result"
    }
   ],
   "source": [
    "con.dtypes"
   ]
  },
  {
   "cell_type": "code",
   "execution_count": 7,
   "metadata": {},
   "outputs": [
    {
     "data": {
      "text/plain": [
       "(568656, 8)"
      ]
     },
     "execution_count": 7,
     "metadata": {},
     "output_type": "execute_result"
    }
   ],
   "source": [
    "con.shape"
   ]
  },
  {
   "cell_type": "code",
   "execution_count": 8,
   "metadata": {},
   "outputs": [
    {
     "data": {
      "text/html": [
       "<div>\n",
       "<style scoped>\n",
       "    .dataframe tbody tr th:only-of-type {\n",
       "        vertical-align: middle;\n",
       "    }\n",
       "\n",
       "    .dataframe tbody tr th {\n",
       "        vertical-align: top;\n",
       "    }\n",
       "\n",
       "    .dataframe thead th {\n",
       "        text-align: right;\n",
       "    }\n",
       "</style>\n",
       "<table border=\"1\" class=\"dataframe\">\n",
       "  <thead>\n",
       "    <tr style=\"text-align: right;\">\n",
       "      <th></th>\n",
       "      <th>agency_cd</th>\n",
       "      <th>city</th>\n",
       "      <th>datetime</th>\n",
       "      <th>timezone</th>\n",
       "      <th>discharge</th>\n",
       "      <th>151445_00060_cd</th>\n",
       "      <th>gauge_lvl</th>\n",
       "      <th>151446_00065_cd</th>\n",
       "    </tr>\n",
       "  </thead>\n",
       "  <tbody>\n",
       "    <tr>\n",
       "      <th>0</th>\n",
       "      <td>USGS</td>\n",
       "      <td>12200500</td>\n",
       "      <td>2007-10-01 00:00</td>\n",
       "      <td>PDT</td>\n",
       "      <td>8000.0</td>\n",
       "      <td>A:[91]</td>\n",
       "      <td>NaN</td>\n",
       "      <td>NaN</td>\n",
       "    </tr>\n",
       "    <tr>\n",
       "      <th>1</th>\n",
       "      <td>USGS</td>\n",
       "      <td>12200500</td>\n",
       "      <td>2007-10-01 00:15</td>\n",
       "      <td>PDT</td>\n",
       "      <td>8000.0</td>\n",
       "      <td>A:[91]</td>\n",
       "      <td>NaN</td>\n",
       "      <td>NaN</td>\n",
       "    </tr>\n",
       "    <tr>\n",
       "      <th>2</th>\n",
       "      <td>USGS</td>\n",
       "      <td>12200500</td>\n",
       "      <td>2007-10-01 00:30</td>\n",
       "      <td>PDT</td>\n",
       "      <td>7980.0</td>\n",
       "      <td>A:[91]</td>\n",
       "      <td>NaN</td>\n",
       "      <td>NaN</td>\n",
       "    </tr>\n",
       "    <tr>\n",
       "      <th>3</th>\n",
       "      <td>USGS</td>\n",
       "      <td>12200500</td>\n",
       "      <td>2007-10-01 00:45</td>\n",
       "      <td>PDT</td>\n",
       "      <td>8000.0</td>\n",
       "      <td>A:[91]</td>\n",
       "      <td>NaN</td>\n",
       "      <td>NaN</td>\n",
       "    </tr>\n",
       "    <tr>\n",
       "      <th>4</th>\n",
       "      <td>USGS</td>\n",
       "      <td>12200500</td>\n",
       "      <td>2007-10-01 01:00</td>\n",
       "      <td>PDT</td>\n",
       "      <td>7980.0</td>\n",
       "      <td>A</td>\n",
       "      <td>12.63</td>\n",
       "      <td>A</td>\n",
       "    </tr>\n",
       "  </tbody>\n",
       "</table>\n",
       "</div>"
      ],
      "text/plain": [
       "  agency_cd      city          datetime timezone  discharge 151445_00060_cd  \\\n",
       "0      USGS  12200500  2007-10-01 00:00      PDT     8000.0          A:[91]   \n",
       "1      USGS  12200500  2007-10-01 00:15      PDT     8000.0          A:[91]   \n",
       "2      USGS  12200500  2007-10-01 00:30      PDT     7980.0          A:[91]   \n",
       "3      USGS  12200500  2007-10-01 00:45      PDT     8000.0          A:[91]   \n",
       "4      USGS  12200500  2007-10-01 01:00      PDT     7980.0               A   \n",
       "\n",
       "   gauge_lvl 151446_00065_cd  \n",
       "0        NaN             NaN  \n",
       "1        NaN             NaN  \n",
       "2        NaN             NaN  \n",
       "3        NaN             NaN  \n",
       "4      12.63               A  "
      ]
     },
     "execution_count": 8,
     "metadata": {},
     "output_type": "execute_result"
    }
   ],
   "source": [
    "mv.head()"
   ]
  },
  {
   "cell_type": "code",
   "execution_count": 9,
   "metadata": {},
   "outputs": [
    {
     "data": {
      "text/plain": [
       "agency_cd           object\n",
       "city                 int64\n",
       "datetime            object\n",
       "timezone            object\n",
       "discharge          float64\n",
       "151445_00060_cd     object\n",
       "gauge_lvl          float64\n",
       "151446_00065_cd     object\n",
       "dtype: object"
      ]
     },
     "execution_count": 9,
     "metadata": {},
     "output_type": "execute_result"
    }
   ],
   "source": [
    "mv.dtypes"
   ]
  },
  {
   "cell_type": "code",
   "execution_count": 10,
   "metadata": {},
   "outputs": [
    {
     "data": {
      "text/plain": [
       "(431145, 8)"
      ]
     },
     "execution_count": 10,
     "metadata": {},
     "output_type": "execute_result"
    }
   ],
   "source": [
    "mv.shape"
   ]
  },
  {
   "cell_type": "code",
   "execution_count": 11,
   "metadata": {},
   "outputs": [],
   "source": [
    "con = con.drop(['agency_cd', '151437_00060_cd', '151438_00065_cd'], axis = 1)"
   ]
  },
  {
   "cell_type": "code",
   "execution_count": 12,
   "metadata": {},
   "outputs": [
    {
     "data": {
      "text/html": [
       "<div>\n",
       "<style scoped>\n",
       "    .dataframe tbody tr th:only-of-type {\n",
       "        vertical-align: middle;\n",
       "    }\n",
       "\n",
       "    .dataframe tbody tr th {\n",
       "        vertical-align: top;\n",
       "    }\n",
       "\n",
       "    .dataframe thead th {\n",
       "        text-align: right;\n",
       "    }\n",
       "</style>\n",
       "<table border=\"1\" class=\"dataframe\">\n",
       "  <thead>\n",
       "    <tr style=\"text-align: right;\">\n",
       "      <th></th>\n",
       "      <th>city</th>\n",
       "      <th>datetime</th>\n",
       "      <th>timezone</th>\n",
       "      <th>discharge</th>\n",
       "      <th>gauge_lvl</th>\n",
       "    </tr>\n",
       "  </thead>\n",
       "  <tbody>\n",
       "    <tr>\n",
       "      <th>0</th>\n",
       "      <td>12194000</td>\n",
       "      <td>2007-10-01 00:00</td>\n",
       "      <td>PDT</td>\n",
       "      <td>8140</td>\n",
       "      <td>NaN</td>\n",
       "    </tr>\n",
       "    <tr>\n",
       "      <th>1</th>\n",
       "      <td>12194000</td>\n",
       "      <td>2007-10-01 00:15</td>\n",
       "      <td>PDT</td>\n",
       "      <td>8170</td>\n",
       "      <td>NaN</td>\n",
       "    </tr>\n",
       "    <tr>\n",
       "      <th>2</th>\n",
       "      <td>12194000</td>\n",
       "      <td>2007-10-01 00:30</td>\n",
       "      <td>PDT</td>\n",
       "      <td>8270</td>\n",
       "      <td>NaN</td>\n",
       "    </tr>\n",
       "    <tr>\n",
       "      <th>3</th>\n",
       "      <td>12194000</td>\n",
       "      <td>2007-10-01 00:45</td>\n",
       "      <td>PDT</td>\n",
       "      <td>8270</td>\n",
       "      <td>NaN</td>\n",
       "    </tr>\n",
       "    <tr>\n",
       "      <th>4</th>\n",
       "      <td>12194000</td>\n",
       "      <td>2007-10-01 01:00</td>\n",
       "      <td>PDT</td>\n",
       "      <td>8350</td>\n",
       "      <td>15.87</td>\n",
       "    </tr>\n",
       "  </tbody>\n",
       "</table>\n",
       "</div>"
      ],
      "text/plain": [
       "       city          datetime timezone  discharge  gauge_lvl\n",
       "0  12194000  2007-10-01 00:00      PDT       8140        NaN\n",
       "1  12194000  2007-10-01 00:15      PDT       8170        NaN\n",
       "2  12194000  2007-10-01 00:30      PDT       8270        NaN\n",
       "3  12194000  2007-10-01 00:45      PDT       8270        NaN\n",
       "4  12194000  2007-10-01 01:00      PDT       8350      15.87"
      ]
     },
     "execution_count": 12,
     "metadata": {},
     "output_type": "execute_result"
    }
   ],
   "source": [
    "con.head()"
   ]
  },
  {
   "cell_type": "code",
   "execution_count": 13,
   "metadata": {},
   "outputs": [],
   "source": [
    "con['city'] = con['city'].replace(12194000, 'Concrete')"
   ]
  },
  {
   "cell_type": "code",
   "execution_count": 14,
   "metadata": {},
   "outputs": [],
   "source": [
    "con = con.dropna()"
   ]
  },
  {
   "cell_type": "code",
   "execution_count": 15,
   "metadata": {},
   "outputs": [
    {
     "data": {
      "text/html": [
       "<div>\n",
       "<style scoped>\n",
       "    .dataframe tbody tr th:only-of-type {\n",
       "        vertical-align: middle;\n",
       "    }\n",
       "\n",
       "    .dataframe tbody tr th {\n",
       "        vertical-align: top;\n",
       "    }\n",
       "\n",
       "    .dataframe thead th {\n",
       "        text-align: right;\n",
       "    }\n",
       "</style>\n",
       "<table border=\"1\" class=\"dataframe\">\n",
       "  <thead>\n",
       "    <tr style=\"text-align: right;\">\n",
       "      <th></th>\n",
       "      <th>city</th>\n",
       "      <th>datetime</th>\n",
       "      <th>timezone</th>\n",
       "      <th>discharge</th>\n",
       "      <th>gauge_lvl</th>\n",
       "    </tr>\n",
       "  </thead>\n",
       "  <tbody>\n",
       "    <tr>\n",
       "      <th>4</th>\n",
       "      <td>Concrete</td>\n",
       "      <td>2007-10-01 01:00</td>\n",
       "      <td>PDT</td>\n",
       "      <td>8350</td>\n",
       "      <td>15.87</td>\n",
       "    </tr>\n",
       "    <tr>\n",
       "      <th>5</th>\n",
       "      <td>Concrete</td>\n",
       "      <td>2007-10-01 01:15</td>\n",
       "      <td>PDT</td>\n",
       "      <td>8320</td>\n",
       "      <td>15.86</td>\n",
       "    </tr>\n",
       "    <tr>\n",
       "      <th>6</th>\n",
       "      <td>Concrete</td>\n",
       "      <td>2007-10-01 01:30</td>\n",
       "      <td>PDT</td>\n",
       "      <td>8350</td>\n",
       "      <td>15.87</td>\n",
       "    </tr>\n",
       "    <tr>\n",
       "      <th>7</th>\n",
       "      <td>Concrete</td>\n",
       "      <td>2007-10-01 01:45</td>\n",
       "      <td>PDT</td>\n",
       "      <td>8370</td>\n",
       "      <td>15.88</td>\n",
       "    </tr>\n",
       "    <tr>\n",
       "      <th>8</th>\n",
       "      <td>Concrete</td>\n",
       "      <td>2007-10-01 02:00</td>\n",
       "      <td>PDT</td>\n",
       "      <td>8450</td>\n",
       "      <td>15.91</td>\n",
       "    </tr>\n",
       "  </tbody>\n",
       "</table>\n",
       "</div>"
      ],
      "text/plain": [
       "       city          datetime timezone  discharge  gauge_lvl\n",
       "4  Concrete  2007-10-01 01:00      PDT       8350      15.87\n",
       "5  Concrete  2007-10-01 01:15      PDT       8320      15.86\n",
       "6  Concrete  2007-10-01 01:30      PDT       8350      15.87\n",
       "7  Concrete  2007-10-01 01:45      PDT       8370      15.88\n",
       "8  Concrete  2007-10-01 02:00      PDT       8450      15.91"
      ]
     },
     "execution_count": 15,
     "metadata": {},
     "output_type": "execute_result"
    }
   ],
   "source": [
    "con.head()"
   ]
  },
  {
   "cell_type": "code",
   "execution_count": 16,
   "metadata": {},
   "outputs": [
    {
     "data": {
      "text/plain": [
       "(568652, 5)"
      ]
     },
     "execution_count": 16,
     "metadata": {},
     "output_type": "execute_result"
    }
   ],
   "source": [
    "con.shape"
   ]
  },
  {
   "cell_type": "code",
   "execution_count": 17,
   "metadata": {},
   "outputs": [],
   "source": [
    "mv = mv.drop(['agency_cd', '151445_00060_cd', '151446_00065_cd'], axis = 1)"
   ]
  },
  {
   "cell_type": "code",
   "execution_count": 18,
   "metadata": {},
   "outputs": [
    {
     "data": {
      "text/html": [
       "<div>\n",
       "<style scoped>\n",
       "    .dataframe tbody tr th:only-of-type {\n",
       "        vertical-align: middle;\n",
       "    }\n",
       "\n",
       "    .dataframe tbody tr th {\n",
       "        vertical-align: top;\n",
       "    }\n",
       "\n",
       "    .dataframe thead th {\n",
       "        text-align: right;\n",
       "    }\n",
       "</style>\n",
       "<table border=\"1\" class=\"dataframe\">\n",
       "  <thead>\n",
       "    <tr style=\"text-align: right;\">\n",
       "      <th></th>\n",
       "      <th>city</th>\n",
       "      <th>datetime</th>\n",
       "      <th>timezone</th>\n",
       "      <th>discharge</th>\n",
       "      <th>gauge_lvl</th>\n",
       "    </tr>\n",
       "  </thead>\n",
       "  <tbody>\n",
       "    <tr>\n",
       "      <th>0</th>\n",
       "      <td>12200500</td>\n",
       "      <td>2007-10-01 00:00</td>\n",
       "      <td>PDT</td>\n",
       "      <td>8000.0</td>\n",
       "      <td>NaN</td>\n",
       "    </tr>\n",
       "    <tr>\n",
       "      <th>1</th>\n",
       "      <td>12200500</td>\n",
       "      <td>2007-10-01 00:15</td>\n",
       "      <td>PDT</td>\n",
       "      <td>8000.0</td>\n",
       "      <td>NaN</td>\n",
       "    </tr>\n",
       "    <tr>\n",
       "      <th>2</th>\n",
       "      <td>12200500</td>\n",
       "      <td>2007-10-01 00:30</td>\n",
       "      <td>PDT</td>\n",
       "      <td>7980.0</td>\n",
       "      <td>NaN</td>\n",
       "    </tr>\n",
       "    <tr>\n",
       "      <th>3</th>\n",
       "      <td>12200500</td>\n",
       "      <td>2007-10-01 00:45</td>\n",
       "      <td>PDT</td>\n",
       "      <td>8000.0</td>\n",
       "      <td>NaN</td>\n",
       "    </tr>\n",
       "    <tr>\n",
       "      <th>4</th>\n",
       "      <td>12200500</td>\n",
       "      <td>2007-10-01 01:00</td>\n",
       "      <td>PDT</td>\n",
       "      <td>7980.0</td>\n",
       "      <td>12.63</td>\n",
       "    </tr>\n",
       "  </tbody>\n",
       "</table>\n",
       "</div>"
      ],
      "text/plain": [
       "       city          datetime timezone  discharge  gauge_lvl\n",
       "0  12200500  2007-10-01 00:00      PDT     8000.0        NaN\n",
       "1  12200500  2007-10-01 00:15      PDT     8000.0        NaN\n",
       "2  12200500  2007-10-01 00:30      PDT     7980.0        NaN\n",
       "3  12200500  2007-10-01 00:45      PDT     8000.0        NaN\n",
       "4  12200500  2007-10-01 01:00      PDT     7980.0      12.63"
      ]
     },
     "execution_count": 18,
     "metadata": {},
     "output_type": "execute_result"
    }
   ],
   "source": [
    "mv.head()"
   ]
  },
  {
   "cell_type": "code",
   "execution_count": 19,
   "metadata": {},
   "outputs": [],
   "source": [
    "mv['city'] = mv['city'].replace(12200500, 'Mount Vernon')"
   ]
  },
  {
   "cell_type": "code",
   "execution_count": 20,
   "metadata": {},
   "outputs": [
    {
     "data": {
      "text/html": [
       "<div>\n",
       "<style scoped>\n",
       "    .dataframe tbody tr th:only-of-type {\n",
       "        vertical-align: middle;\n",
       "    }\n",
       "\n",
       "    .dataframe tbody tr th {\n",
       "        vertical-align: top;\n",
       "    }\n",
       "\n",
       "    .dataframe thead th {\n",
       "        text-align: right;\n",
       "    }\n",
       "</style>\n",
       "<table border=\"1\" class=\"dataframe\">\n",
       "  <thead>\n",
       "    <tr style=\"text-align: right;\">\n",
       "      <th></th>\n",
       "      <th>city</th>\n",
       "      <th>datetime</th>\n",
       "      <th>timezone</th>\n",
       "      <th>discharge</th>\n",
       "      <th>gauge_lvl</th>\n",
       "    </tr>\n",
       "  </thead>\n",
       "  <tbody>\n",
       "    <tr>\n",
       "      <th>0</th>\n",
       "      <td>Mount Vernon</td>\n",
       "      <td>2007-10-01 00:00</td>\n",
       "      <td>PDT</td>\n",
       "      <td>8000.0</td>\n",
       "      <td>NaN</td>\n",
       "    </tr>\n",
       "    <tr>\n",
       "      <th>1</th>\n",
       "      <td>Mount Vernon</td>\n",
       "      <td>2007-10-01 00:15</td>\n",
       "      <td>PDT</td>\n",
       "      <td>8000.0</td>\n",
       "      <td>NaN</td>\n",
       "    </tr>\n",
       "    <tr>\n",
       "      <th>2</th>\n",
       "      <td>Mount Vernon</td>\n",
       "      <td>2007-10-01 00:30</td>\n",
       "      <td>PDT</td>\n",
       "      <td>7980.0</td>\n",
       "      <td>NaN</td>\n",
       "    </tr>\n",
       "    <tr>\n",
       "      <th>3</th>\n",
       "      <td>Mount Vernon</td>\n",
       "      <td>2007-10-01 00:45</td>\n",
       "      <td>PDT</td>\n",
       "      <td>8000.0</td>\n",
       "      <td>NaN</td>\n",
       "    </tr>\n",
       "    <tr>\n",
       "      <th>4</th>\n",
       "      <td>Mount Vernon</td>\n",
       "      <td>2007-10-01 01:00</td>\n",
       "      <td>PDT</td>\n",
       "      <td>7980.0</td>\n",
       "      <td>12.63</td>\n",
       "    </tr>\n",
       "  </tbody>\n",
       "</table>\n",
       "</div>"
      ],
      "text/plain": [
       "           city          datetime timezone  discharge  gauge_lvl\n",
       "0  Mount Vernon  2007-10-01 00:00      PDT     8000.0        NaN\n",
       "1  Mount Vernon  2007-10-01 00:15      PDT     8000.0        NaN\n",
       "2  Mount Vernon  2007-10-01 00:30      PDT     7980.0        NaN\n",
       "3  Mount Vernon  2007-10-01 00:45      PDT     8000.0        NaN\n",
       "4  Mount Vernon  2007-10-01 01:00      PDT     7980.0      12.63"
      ]
     },
     "execution_count": 20,
     "metadata": {},
     "output_type": "execute_result"
    }
   ],
   "source": [
    "mv.head()"
   ]
  },
  {
   "cell_type": "code",
   "execution_count": 21,
   "metadata": {},
   "outputs": [],
   "source": [
    "mv = mv.dropna()"
   ]
  },
  {
   "cell_type": "code",
   "execution_count": 22,
   "metadata": {},
   "outputs": [
    {
     "data": {
      "text/html": [
       "<div>\n",
       "<style scoped>\n",
       "    .dataframe tbody tr th:only-of-type {\n",
       "        vertical-align: middle;\n",
       "    }\n",
       "\n",
       "    .dataframe tbody tr th {\n",
       "        vertical-align: top;\n",
       "    }\n",
       "\n",
       "    .dataframe thead th {\n",
       "        text-align: right;\n",
       "    }\n",
       "</style>\n",
       "<table border=\"1\" class=\"dataframe\">\n",
       "  <thead>\n",
       "    <tr style=\"text-align: right;\">\n",
       "      <th></th>\n",
       "      <th>city</th>\n",
       "      <th>datetime</th>\n",
       "      <th>timezone</th>\n",
       "      <th>discharge</th>\n",
       "      <th>gauge_lvl</th>\n",
       "    </tr>\n",
       "  </thead>\n",
       "  <tbody>\n",
       "    <tr>\n",
       "      <th>4</th>\n",
       "      <td>Mount Vernon</td>\n",
       "      <td>2007-10-01 01:00</td>\n",
       "      <td>PDT</td>\n",
       "      <td>7980.0</td>\n",
       "      <td>12.63</td>\n",
       "    </tr>\n",
       "    <tr>\n",
       "      <th>5</th>\n",
       "      <td>Mount Vernon</td>\n",
       "      <td>2007-10-01 01:15</td>\n",
       "      <td>PDT</td>\n",
       "      <td>8000.0</td>\n",
       "      <td>12.64</td>\n",
       "    </tr>\n",
       "    <tr>\n",
       "      <th>6</th>\n",
       "      <td>Mount Vernon</td>\n",
       "      <td>2007-10-01 01:30</td>\n",
       "      <td>PDT</td>\n",
       "      <td>8020.0</td>\n",
       "      <td>12.65</td>\n",
       "    </tr>\n",
       "    <tr>\n",
       "      <th>7</th>\n",
       "      <td>Mount Vernon</td>\n",
       "      <td>2007-10-01 01:45</td>\n",
       "      <td>PDT</td>\n",
       "      <td>8060.0</td>\n",
       "      <td>12.66</td>\n",
       "    </tr>\n",
       "    <tr>\n",
       "      <th>8</th>\n",
       "      <td>Mount Vernon</td>\n",
       "      <td>2007-10-01 02:00</td>\n",
       "      <td>PDT</td>\n",
       "      <td>8090.0</td>\n",
       "      <td>12.68</td>\n",
       "    </tr>\n",
       "  </tbody>\n",
       "</table>\n",
       "</div>"
      ],
      "text/plain": [
       "           city          datetime timezone  discharge  gauge_lvl\n",
       "4  Mount Vernon  2007-10-01 01:00      PDT     7980.0      12.63\n",
       "5  Mount Vernon  2007-10-01 01:15      PDT     8000.0      12.64\n",
       "6  Mount Vernon  2007-10-01 01:30      PDT     8020.0      12.65\n",
       "7  Mount Vernon  2007-10-01 01:45      PDT     8060.0      12.66\n",
       "8  Mount Vernon  2007-10-01 02:00      PDT     8090.0      12.68"
      ]
     },
     "execution_count": 22,
     "metadata": {},
     "output_type": "execute_result"
    }
   ],
   "source": [
    "mv.head()"
   ]
  },
  {
   "cell_type": "code",
   "execution_count": 23,
   "metadata": {},
   "outputs": [
    {
     "data": {
      "text/plain": [
       "(431091, 5)"
      ]
     },
     "execution_count": 23,
     "metadata": {},
     "output_type": "execute_result"
    }
   ],
   "source": [
    "mv.shape"
   ]
  },
  {
   "cell_type": "code",
   "execution_count": 24,
   "metadata": {},
   "outputs": [],
   "source": [
    "mv.to_csv('Datasets/mount_vernon.csv', index = False)"
   ]
  },
  {
   "cell_type": "code",
   "execution_count": 25,
   "metadata": {},
   "outputs": [],
   "source": [
    "con.to_csv('Datasets/concrete.csv', index = False)"
   ]
  },
  {
   "cell_type": "code",
   "execution_count": null,
   "metadata": {},
   "outputs": [],
   "source": []
  }
 ],
 "metadata": {
  "kernelspec": {
   "display_name": "Python 3",
   "language": "python",
   "name": "python3"
  },
  "language_info": {
   "codemirror_mode": {
    "name": "ipython",
    "version": 3
   },
   "file_extension": ".py",
   "mimetype": "text/x-python",
   "name": "python",
   "nbconvert_exporter": "python",
   "pygments_lexer": "ipython3",
   "version": "3.7.4"
  }
 },
 "nbformat": 4,
 "nbformat_minor": 2
}
