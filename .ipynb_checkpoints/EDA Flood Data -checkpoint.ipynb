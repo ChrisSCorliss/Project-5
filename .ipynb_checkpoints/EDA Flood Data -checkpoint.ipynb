{
 "cells": [
  {
   "cell_type": "code",
   "execution_count": 1,
   "metadata": {},
   "outputs": [],
   "source": [
    "import pandas as pd, numpy as np, matplotlib.pyplot as plt"
   ]
  },
  {
   "cell_type": "code",
   "execution_count": 2,
   "metadata": {},
   "outputs": [],
   "source": [
    "con  = pd.read_csv('Datasets/concrete.csv')\n",
    "mv = pd.read_csv('Datasets/mount_vernon.csv')"
   ]
  },
  {
   "cell_type": "code",
   "execution_count": 3,
   "metadata": {},
   "outputs": [
    {
     "name": "stdout",
     "output_type": "stream",
     "text": [
      "(568652, 5)\n",
      "(431091, 5)\n"
     ]
    }
   ],
   "source": [
    "print(con.shape)\n",
    "print(mv.shape)"
   ]
  },
  {
   "cell_type": "code",
   "execution_count": 4,
   "metadata": {},
   "outputs": [
    {
     "data": {
      "text/html": [
       "<div>\n",
       "<style scoped>\n",
       "    .dataframe tbody tr th:only-of-type {\n",
       "        vertical-align: middle;\n",
       "    }\n",
       "\n",
       "    .dataframe tbody tr th {\n",
       "        vertical-align: top;\n",
       "    }\n",
       "\n",
       "    .dataframe thead th {\n",
       "        text-align: right;\n",
       "    }\n",
       "</style>\n",
       "<table border=\"1\" class=\"dataframe\">\n",
       "  <thead>\n",
       "    <tr style=\"text-align: right;\">\n",
       "      <th></th>\n",
       "      <th>city</th>\n",
       "      <th>datetime</th>\n",
       "      <th>timezone</th>\n",
       "      <th>discharge</th>\n",
       "      <th>gauge_lvl</th>\n",
       "    </tr>\n",
       "  </thead>\n",
       "  <tbody>\n",
       "    <tr>\n",
       "      <th>0</th>\n",
       "      <td>Concrete</td>\n",
       "      <td>2007-10-01 01:00</td>\n",
       "      <td>PDT</td>\n",
       "      <td>8350</td>\n",
       "      <td>15.87</td>\n",
       "    </tr>\n",
       "    <tr>\n",
       "      <th>1</th>\n",
       "      <td>Concrete</td>\n",
       "      <td>2007-10-01 01:15</td>\n",
       "      <td>PDT</td>\n",
       "      <td>8320</td>\n",
       "      <td>15.86</td>\n",
       "    </tr>\n",
       "    <tr>\n",
       "      <th>2</th>\n",
       "      <td>Concrete</td>\n",
       "      <td>2007-10-01 01:30</td>\n",
       "      <td>PDT</td>\n",
       "      <td>8350</td>\n",
       "      <td>15.87</td>\n",
       "    </tr>\n",
       "    <tr>\n",
       "      <th>3</th>\n",
       "      <td>Concrete</td>\n",
       "      <td>2007-10-01 01:45</td>\n",
       "      <td>PDT</td>\n",
       "      <td>8370</td>\n",
       "      <td>15.88</td>\n",
       "    </tr>\n",
       "    <tr>\n",
       "      <th>4</th>\n",
       "      <td>Concrete</td>\n",
       "      <td>2007-10-01 02:00</td>\n",
       "      <td>PDT</td>\n",
       "      <td>8450</td>\n",
       "      <td>15.91</td>\n",
       "    </tr>\n",
       "  </tbody>\n",
       "</table>\n",
       "</div>"
      ],
      "text/plain": [
       "       city          datetime timezone  discharge  gauge_lvl\n",
       "0  Concrete  2007-10-01 01:00      PDT       8350      15.87\n",
       "1  Concrete  2007-10-01 01:15      PDT       8320      15.86\n",
       "2  Concrete  2007-10-01 01:30      PDT       8350      15.87\n",
       "3  Concrete  2007-10-01 01:45      PDT       8370      15.88\n",
       "4  Concrete  2007-10-01 02:00      PDT       8450      15.91"
      ]
     },
     "execution_count": 4,
     "metadata": {},
     "output_type": "execute_result"
    }
   ],
   "source": [
    "con.head()"
   ]
  },
  {
   "cell_type": "code",
   "execution_count": 5,
   "metadata": {},
   "outputs": [
    {
     "data": {
      "text/html": [
       "<div>\n",
       "<style scoped>\n",
       "    .dataframe tbody tr th:only-of-type {\n",
       "        vertical-align: middle;\n",
       "    }\n",
       "\n",
       "    .dataframe tbody tr th {\n",
       "        vertical-align: top;\n",
       "    }\n",
       "\n",
       "    .dataframe thead th {\n",
       "        text-align: right;\n",
       "    }\n",
       "</style>\n",
       "<table border=\"1\" class=\"dataframe\">\n",
       "  <thead>\n",
       "    <tr style=\"text-align: right;\">\n",
       "      <th></th>\n",
       "      <th>city</th>\n",
       "      <th>datetime</th>\n",
       "      <th>timezone</th>\n",
       "      <th>discharge</th>\n",
       "      <th>gauge_lvl</th>\n",
       "    </tr>\n",
       "  </thead>\n",
       "  <tbody>\n",
       "    <tr>\n",
       "      <th>0</th>\n",
       "      <td>Mount Vernon</td>\n",
       "      <td>2007-10-01 01:00</td>\n",
       "      <td>PDT</td>\n",
       "      <td>7980.0</td>\n",
       "      <td>12.63</td>\n",
       "    </tr>\n",
       "    <tr>\n",
       "      <th>1</th>\n",
       "      <td>Mount Vernon</td>\n",
       "      <td>2007-10-01 01:15</td>\n",
       "      <td>PDT</td>\n",
       "      <td>8000.0</td>\n",
       "      <td>12.64</td>\n",
       "    </tr>\n",
       "    <tr>\n",
       "      <th>2</th>\n",
       "      <td>Mount Vernon</td>\n",
       "      <td>2007-10-01 01:30</td>\n",
       "      <td>PDT</td>\n",
       "      <td>8020.0</td>\n",
       "      <td>12.65</td>\n",
       "    </tr>\n",
       "    <tr>\n",
       "      <th>3</th>\n",
       "      <td>Mount Vernon</td>\n",
       "      <td>2007-10-01 01:45</td>\n",
       "      <td>PDT</td>\n",
       "      <td>8060.0</td>\n",
       "      <td>12.66</td>\n",
       "    </tr>\n",
       "    <tr>\n",
       "      <th>4</th>\n",
       "      <td>Mount Vernon</td>\n",
       "      <td>2007-10-01 02:00</td>\n",
       "      <td>PDT</td>\n",
       "      <td>8090.0</td>\n",
       "      <td>12.68</td>\n",
       "    </tr>\n",
       "  </tbody>\n",
       "</table>\n",
       "</div>"
      ],
      "text/plain": [
       "           city          datetime timezone  discharge  gauge_lvl\n",
       "0  Mount Vernon  2007-10-01 01:00      PDT     7980.0      12.63\n",
       "1  Mount Vernon  2007-10-01 01:15      PDT     8000.0      12.64\n",
       "2  Mount Vernon  2007-10-01 01:30      PDT     8020.0      12.65\n",
       "3  Mount Vernon  2007-10-01 01:45      PDT     8060.0      12.66\n",
       "4  Mount Vernon  2007-10-01 02:00      PDT     8090.0      12.68"
      ]
     },
     "execution_count": 5,
     "metadata": {},
     "output_type": "execute_result"
    }
   ],
   "source": [
    "mv.head()"
   ]
  },
  {
   "cell_type": "code",
   "execution_count": 6,
   "metadata": {},
   "outputs": [],
   "source": [
    "con['timezone'] = con['timezone'].replace('PDT', 'PST')\n",
    "mv['timezone'] = mv['timezone'].replace('PDT', 'PST')"
   ]
  },
  {
   "cell_type": "code",
   "execution_count": 7,
   "metadata": {},
   "outputs": [
    {
     "data": {
      "text/plain": [
       "PST    431091\n",
       "Name: timezone, dtype: int64"
      ]
     },
     "execution_count": 7,
     "metadata": {},
     "output_type": "execute_result"
    }
   ],
   "source": [
    "mv['timezone'].value_counts()"
   ]
  },
  {
   "cell_type": "code",
   "execution_count": 8,
   "metadata": {},
   "outputs": [
    {
     "data": {
      "text/plain": [
       "PST    568652\n",
       "Name: timezone, dtype: int64"
      ]
     },
     "execution_count": 8,
     "metadata": {},
     "output_type": "execute_result"
    }
   ],
   "source": [
    "con['timezone'].value_counts()"
   ]
  },
  {
   "cell_type": "code",
   "execution_count": 9,
   "metadata": {},
   "outputs": [
    {
     "data": {
      "text/plain": [
       "city          object\n",
       "datetime      object\n",
       "timezone      object\n",
       "discharge      int64\n",
       "gauge_lvl    float64\n",
       "dtype: object"
      ]
     },
     "execution_count": 9,
     "metadata": {},
     "output_type": "execute_result"
    }
   ],
   "source": [
    "con.dtypes"
   ]
  },
  {
   "cell_type": "code",
   "execution_count": 10,
   "metadata": {},
   "outputs": [],
   "source": [
    "con['datetime'] = pd.to_datetime(con['datetime'])"
   ]
  },
  {
   "cell_type": "code",
   "execution_count": 11,
   "metadata": {},
   "outputs": [
    {
     "name": "stdout",
     "output_type": "stream",
     "text": [
      "city                 object\n",
      "datetime     datetime64[ns]\n",
      "timezone             object\n",
      "discharge             int64\n",
      "gauge_lvl           float64\n",
      "dtype: object\n"
     ]
    },
    {
     "data": {
      "text/html": [
       "<div>\n",
       "<style scoped>\n",
       "    .dataframe tbody tr th:only-of-type {\n",
       "        vertical-align: middle;\n",
       "    }\n",
       "\n",
       "    .dataframe tbody tr th {\n",
       "        vertical-align: top;\n",
       "    }\n",
       "\n",
       "    .dataframe thead th {\n",
       "        text-align: right;\n",
       "    }\n",
       "</style>\n",
       "<table border=\"1\" class=\"dataframe\">\n",
       "  <thead>\n",
       "    <tr style=\"text-align: right;\">\n",
       "      <th></th>\n",
       "      <th>city</th>\n",
       "      <th>datetime</th>\n",
       "      <th>timezone</th>\n",
       "      <th>discharge</th>\n",
       "      <th>gauge_lvl</th>\n",
       "    </tr>\n",
       "  </thead>\n",
       "  <tbody>\n",
       "    <tr>\n",
       "      <th>0</th>\n",
       "      <td>Concrete</td>\n",
       "      <td>2007-10-01 01:00:00</td>\n",
       "      <td>PST</td>\n",
       "      <td>8350</td>\n",
       "      <td>15.87</td>\n",
       "    </tr>\n",
       "    <tr>\n",
       "      <th>1</th>\n",
       "      <td>Concrete</td>\n",
       "      <td>2007-10-01 01:15:00</td>\n",
       "      <td>PST</td>\n",
       "      <td>8320</td>\n",
       "      <td>15.86</td>\n",
       "    </tr>\n",
       "    <tr>\n",
       "      <th>2</th>\n",
       "      <td>Concrete</td>\n",
       "      <td>2007-10-01 01:30:00</td>\n",
       "      <td>PST</td>\n",
       "      <td>8350</td>\n",
       "      <td>15.87</td>\n",
       "    </tr>\n",
       "    <tr>\n",
       "      <th>3</th>\n",
       "      <td>Concrete</td>\n",
       "      <td>2007-10-01 01:45:00</td>\n",
       "      <td>PST</td>\n",
       "      <td>8370</td>\n",
       "      <td>15.88</td>\n",
       "    </tr>\n",
       "    <tr>\n",
       "      <th>4</th>\n",
       "      <td>Concrete</td>\n",
       "      <td>2007-10-01 02:00:00</td>\n",
       "      <td>PST</td>\n",
       "      <td>8450</td>\n",
       "      <td>15.91</td>\n",
       "    </tr>\n",
       "  </tbody>\n",
       "</table>\n",
       "</div>"
      ],
      "text/plain": [
       "       city            datetime timezone  discharge  gauge_lvl\n",
       "0  Concrete 2007-10-01 01:00:00      PST       8350      15.87\n",
       "1  Concrete 2007-10-01 01:15:00      PST       8320      15.86\n",
       "2  Concrete 2007-10-01 01:30:00      PST       8350      15.87\n",
       "3  Concrete 2007-10-01 01:45:00      PST       8370      15.88\n",
       "4  Concrete 2007-10-01 02:00:00      PST       8450      15.91"
      ]
     },
     "execution_count": 11,
     "metadata": {},
     "output_type": "execute_result"
    }
   ],
   "source": [
    "print(con.dtypes)\n",
    "\n",
    "con.head()"
   ]
  },
  {
   "cell_type": "code",
   "execution_count": 12,
   "metadata": {},
   "outputs": [],
   "source": [
    "mv['datetime'] = pd.to_datetime(mv['datetime'])"
   ]
  },
  {
   "cell_type": "code",
   "execution_count": 13,
   "metadata": {},
   "outputs": [
    {
     "name": "stdout",
     "output_type": "stream",
     "text": [
      "city                 object\n",
      "datetime     datetime64[ns]\n",
      "timezone             object\n",
      "discharge           float64\n",
      "gauge_lvl           float64\n",
      "dtype: object\n"
     ]
    },
    {
     "data": {
      "text/html": [
       "<div>\n",
       "<style scoped>\n",
       "    .dataframe tbody tr th:only-of-type {\n",
       "        vertical-align: middle;\n",
       "    }\n",
       "\n",
       "    .dataframe tbody tr th {\n",
       "        vertical-align: top;\n",
       "    }\n",
       "\n",
       "    .dataframe thead th {\n",
       "        text-align: right;\n",
       "    }\n",
       "</style>\n",
       "<table border=\"1\" class=\"dataframe\">\n",
       "  <thead>\n",
       "    <tr style=\"text-align: right;\">\n",
       "      <th></th>\n",
       "      <th>city</th>\n",
       "      <th>datetime</th>\n",
       "      <th>timezone</th>\n",
       "      <th>discharge</th>\n",
       "      <th>gauge_lvl</th>\n",
       "    </tr>\n",
       "  </thead>\n",
       "  <tbody>\n",
       "    <tr>\n",
       "      <th>0</th>\n",
       "      <td>Mount Vernon</td>\n",
       "      <td>2007-10-01 01:00:00</td>\n",
       "      <td>PST</td>\n",
       "      <td>7980.0</td>\n",
       "      <td>12.63</td>\n",
       "    </tr>\n",
       "    <tr>\n",
       "      <th>1</th>\n",
       "      <td>Mount Vernon</td>\n",
       "      <td>2007-10-01 01:15:00</td>\n",
       "      <td>PST</td>\n",
       "      <td>8000.0</td>\n",
       "      <td>12.64</td>\n",
       "    </tr>\n",
       "    <tr>\n",
       "      <th>2</th>\n",
       "      <td>Mount Vernon</td>\n",
       "      <td>2007-10-01 01:30:00</td>\n",
       "      <td>PST</td>\n",
       "      <td>8020.0</td>\n",
       "      <td>12.65</td>\n",
       "    </tr>\n",
       "    <tr>\n",
       "      <th>3</th>\n",
       "      <td>Mount Vernon</td>\n",
       "      <td>2007-10-01 01:45:00</td>\n",
       "      <td>PST</td>\n",
       "      <td>8060.0</td>\n",
       "      <td>12.66</td>\n",
       "    </tr>\n",
       "    <tr>\n",
       "      <th>4</th>\n",
       "      <td>Mount Vernon</td>\n",
       "      <td>2007-10-01 02:00:00</td>\n",
       "      <td>PST</td>\n",
       "      <td>8090.0</td>\n",
       "      <td>12.68</td>\n",
       "    </tr>\n",
       "  </tbody>\n",
       "</table>\n",
       "</div>"
      ],
      "text/plain": [
       "           city            datetime timezone  discharge  gauge_lvl\n",
       "0  Mount Vernon 2007-10-01 01:00:00      PST     7980.0      12.63\n",
       "1  Mount Vernon 2007-10-01 01:15:00      PST     8000.0      12.64\n",
       "2  Mount Vernon 2007-10-01 01:30:00      PST     8020.0      12.65\n",
       "3  Mount Vernon 2007-10-01 01:45:00      PST     8060.0      12.66\n",
       "4  Mount Vernon 2007-10-01 02:00:00      PST     8090.0      12.68"
      ]
     },
     "execution_count": 13,
     "metadata": {},
     "output_type": "execute_result"
    }
   ],
   "source": [
    "print(mv.dtypes)\n",
    "\n",
    "mv.head()"
   ]
  },
  {
   "cell_type": "code",
   "execution_count": 14,
   "metadata": {},
   "outputs": [
    {
     "name": "stdout",
     "output_type": "stream",
     "text": [
      "city                 object\n",
      "datetime     datetime64[ns]\n",
      "timezone             object\n",
      "discharge             int64\n",
      "gauge_lvl           float64\n",
      "dtype: object\n"
     ]
    },
    {
     "data": {
      "text/html": [
       "<div>\n",
       "<style scoped>\n",
       "    .dataframe tbody tr th:only-of-type {\n",
       "        vertical-align: middle;\n",
       "    }\n",
       "\n",
       "    .dataframe tbody tr th {\n",
       "        vertical-align: top;\n",
       "    }\n",
       "\n",
       "    .dataframe thead th {\n",
       "        text-align: right;\n",
       "    }\n",
       "</style>\n",
       "<table border=\"1\" class=\"dataframe\">\n",
       "  <thead>\n",
       "    <tr style=\"text-align: right;\">\n",
       "      <th></th>\n",
       "      <th>city</th>\n",
       "      <th>datetime</th>\n",
       "      <th>timezone</th>\n",
       "      <th>discharge</th>\n",
       "      <th>gauge_lvl</th>\n",
       "    </tr>\n",
       "  </thead>\n",
       "  <tbody>\n",
       "    <tr>\n",
       "      <th>0</th>\n",
       "      <td>Mount Vernon</td>\n",
       "      <td>2007-10-01 01:00:00</td>\n",
       "      <td>PST</td>\n",
       "      <td>7980</td>\n",
       "      <td>12.63</td>\n",
       "    </tr>\n",
       "  </tbody>\n",
       "</table>\n",
       "</div>"
      ],
      "text/plain": [
       "           city            datetime timezone  discharge  gauge_lvl\n",
       "0  Mount Vernon 2007-10-01 01:00:00      PST       7980      12.63"
      ]
     },
     "execution_count": 14,
     "metadata": {},
     "output_type": "execute_result"
    }
   ],
   "source": [
    "mv['discharge'] = mv['discharge'].astype('int64')\n",
    "\n",
    "print(mv.dtypes)\n",
    "\n",
    "mv.head(1)"
   ]
  },
  {
   "cell_type": "code",
   "execution_count": 15,
   "metadata": {},
   "outputs": [
    {
     "data": {
      "text/plain": [
       "[<matplotlib.lines.Line2D at 0x11a747f10>]"
      ]
     },
     "execution_count": 15,
     "metadata": {},
     "output_type": "execute_result"
    },
    {
     "data": {
      "image/png": "[encoded data removed]",
      "text/plain": [
       "<Figure size 864x864 with 1 Axes>"
      ]
     },
     "metadata": {
      "needs_background": "light"
     },
     "output_type": "display_data"
    }
   ],
   "source": [
    "plt.figure(figsize= (12,12))\n",
    "plt.plot(con['gauge_lvl'])\n",
    "plt.plot(mv['gauge_lvl'])"
   ]
  },
  {
   "cell_type": "code",
   "execution_count": 16,
   "metadata": {},
   "outputs": [
    {
     "name": "stdout",
     "output_type": "stream",
     "text": [
      "           city            datetime timezone  discharge  gauge_lvl\n",
      "0  Mount Vernon 2007-10-01 01:00:00      PST       7980      12.63\n",
      "1  Mount Vernon 2007-10-01 01:15:00      PST       8000      12.64\n",
      "2  Mount Vernon 2007-10-01 01:30:00      PST       8020      12.65\n",
      "3  Mount Vernon 2007-10-01 01:45:00      PST       8060      12.66\n",
      "4  Mount Vernon 2007-10-01 02:00:00      PST       8090      12.68\n",
      "                city            datetime timezone  discharge  gauge_lvl\n",
      "431086  Mount Vernon 2020-02-19 10:15:00      PST      17500      15.67\n",
      "431087  Mount Vernon 2020-02-19 10:30:00      PST      17500      15.66\n",
      "431088  Mount Vernon 2020-02-19 10:45:00      PST      17500      15.64\n",
      "431089  Mount Vernon 2020-02-19 11:00:00      PST      17500      15.64\n",
      "431090  Mount Vernon 2020-02-19 11:15:00      PST      17400      15.62\n",
      "       city            datetime timezone  discharge  gauge_lvl\n",
      "0  Concrete 2007-10-01 01:00:00      PST       8350      15.87\n",
      "1  Concrete 2007-10-01 01:15:00      PST       8320      15.86\n",
      "2  Concrete 2007-10-01 01:30:00      PST       8350      15.87\n",
      "3  Concrete 2007-10-01 01:45:00      PST       8370      15.88\n",
      "4  Concrete 2007-10-01 02:00:00      PST       8450      15.91\n",
      "            city            datetime timezone  discharge  gauge_lvl\n",
      "568647  Concrete 2020-02-19 11:40:00      PST      13900      18.09\n",
      "568648  Concrete 2020-02-19 11:45:00      PST      13900      18.09\n",
      "568649  Concrete 2020-02-19 11:50:00      PST      13900      18.07\n",
      "568650  Concrete 2020-02-19 11:55:00      PST      13900      18.10\n",
      "568651  Concrete 2020-02-19 12:00:00      PST      13900      18.07\n"
     ]
    }
   ],
   "source": [
    "print(mv.head())\n",
    "print(mv.tail())\n",
    "print(con.head())\n",
    "print(con.tail())"
   ]
  },
  {
   "cell_type": "code",
   "execution_count": 17,
   "metadata": {},
   "outputs": [],
   "source": [
    "combined = mv.merge(con, how = 'outer', on = 'datetime')"
   ]
  },
  {
   "cell_type": "code",
   "execution_count": 18,
   "metadata": {},
   "outputs": [
    {
     "data": {
      "text/plain": [
       "city_x         137885\n",
       "datetime            0\n",
       "timezone_x     137885\n",
       "discharge_x    137885\n",
       "gauge_lvl_x    137885\n",
       "city_y            324\n",
       "timezone_y        324\n",
       "discharge_y       324\n",
       "gauge_lvl_y       324\n",
       "dtype: int64"
      ]
     },
     "execution_count": 18,
     "metadata": {},
     "output_type": "execute_result"
    }
   ],
   "source": [
    "np.sum(combined.isna())"
   ]
  },
  {
   "cell_type": "code",
   "execution_count": 19,
   "metadata": {},
   "outputs": [],
   "source": [
    "combined = combined.dropna()"
   ]
  },
  {
   "cell_type": "code",
   "execution_count": 20,
   "metadata": {},
   "outputs": [
    {
     "data": {
      "text/html": [
       "<div>\n",
       "<style scoped>\n",
       "    .dataframe tbody tr th:only-of-type {\n",
       "        vertical-align: middle;\n",
       "    }\n",
       "\n",
       "    .dataframe tbody tr th {\n",
       "        vertical-align: top;\n",
       "    }\n",
       "\n",
       "    .dataframe thead th {\n",
       "        text-align: right;\n",
       "    }\n",
       "</style>\n",
       "<table border=\"1\" class=\"dataframe\">\n",
       "  <thead>\n",
       "    <tr style=\"text-align: right;\">\n",
       "      <th></th>\n",
       "      <th>city_x</th>\n",
       "      <th>datetime</th>\n",
       "      <th>timezone_x</th>\n",
       "      <th>discharge_x</th>\n",
       "      <th>gauge_lvl_x</th>\n",
       "      <th>city_y</th>\n",
       "      <th>timezone_y</th>\n",
       "      <th>discharge_y</th>\n",
       "      <th>gauge_lvl_y</th>\n",
       "    </tr>\n",
       "  </thead>\n",
       "  <tbody>\n",
       "    <tr>\n",
       "      <th>0</th>\n",
       "      <td>Mount Vernon</td>\n",
       "      <td>2007-10-01 01:00:00</td>\n",
       "      <td>PST</td>\n",
       "      <td>7980.0</td>\n",
       "      <td>12.63</td>\n",
       "      <td>Concrete</td>\n",
       "      <td>PST</td>\n",
       "      <td>8350.0</td>\n",
       "      <td>15.87</td>\n",
       "    </tr>\n",
       "    <tr>\n",
       "      <th>1</th>\n",
       "      <td>Mount Vernon</td>\n",
       "      <td>2007-10-01 01:15:00</td>\n",
       "      <td>PST</td>\n",
       "      <td>8000.0</td>\n",
       "      <td>12.64</td>\n",
       "      <td>Concrete</td>\n",
       "      <td>PST</td>\n",
       "      <td>8320.0</td>\n",
       "      <td>15.86</td>\n",
       "    </tr>\n",
       "    <tr>\n",
       "      <th>2</th>\n",
       "      <td>Mount Vernon</td>\n",
       "      <td>2007-10-01 01:30:00</td>\n",
       "      <td>PST</td>\n",
       "      <td>8020.0</td>\n",
       "      <td>12.65</td>\n",
       "      <td>Concrete</td>\n",
       "      <td>PST</td>\n",
       "      <td>8350.0</td>\n",
       "      <td>15.87</td>\n",
       "    </tr>\n",
       "    <tr>\n",
       "      <th>3</th>\n",
       "      <td>Mount Vernon</td>\n",
       "      <td>2007-10-01 01:45:00</td>\n",
       "      <td>PST</td>\n",
       "      <td>8060.0</td>\n",
       "      <td>12.66</td>\n",
       "      <td>Concrete</td>\n",
       "      <td>PST</td>\n",
       "      <td>8370.0</td>\n",
       "      <td>15.88</td>\n",
       "    </tr>\n",
       "    <tr>\n",
       "      <th>4</th>\n",
       "      <td>Mount Vernon</td>\n",
       "      <td>2007-10-01 02:00:00</td>\n",
       "      <td>PST</td>\n",
       "      <td>8090.0</td>\n",
       "      <td>12.68</td>\n",
       "      <td>Concrete</td>\n",
       "      <td>PST</td>\n",
       "      <td>8450.0</td>\n",
       "      <td>15.91</td>\n",
       "    </tr>\n",
       "  </tbody>\n",
       "</table>\n",
       "</div>"
      ],
      "text/plain": [
       "         city_x            datetime timezone_x  discharge_x  gauge_lvl_x  \\\n",
       "0  Mount Vernon 2007-10-01 01:00:00        PST       7980.0        12.63   \n",
       "1  Mount Vernon 2007-10-01 01:15:00        PST       8000.0        12.64   \n",
       "2  Mount Vernon 2007-10-01 01:30:00        PST       8020.0        12.65   \n",
       "3  Mount Vernon 2007-10-01 01:45:00        PST       8060.0        12.66   \n",
       "4  Mount Vernon 2007-10-01 02:00:00        PST       8090.0        12.68   \n",
       "\n",
       "     city_y timezone_y  discharge_y  gauge_lvl_y  \n",
       "0  Concrete        PST       8350.0        15.87  \n",
       "1  Concrete        PST       8320.0        15.86  \n",
       "2  Concrete        PST       8350.0        15.87  \n",
       "3  Concrete        PST       8370.0        15.88  \n",
       "4  Concrete        PST       8450.0        15.91  "
      ]
     },
     "execution_count": 20,
     "metadata": {},
     "output_type": "execute_result"
    }
   ],
   "source": [
    "combined.head()"
   ]
  },
  {
   "cell_type": "code",
   "execution_count": 33,
   "metadata": {},
   "outputs": [],
   "source": [
    "con = combined[['city_y', 'datetime', 'timezone_y', 'discharge_y', 'gauge_lvl_y']]\n",
    "mv = combined[['city_x', 'datetime', 'timezone_x', 'discharge_x', 'gauge_lvl_x']]"
   ]
  },
  {
   "cell_type": "code",
   "execution_count": 34,
   "metadata": {},
   "outputs": [
    {
     "data": {
      "text/html": [
       "<div>\n",
       "<style scoped>\n",
       "    .dataframe tbody tr th:only-of-type {\n",
       "        vertical-align: middle;\n",
       "    }\n",
       "\n",
       "    .dataframe tbody tr th {\n",
       "        vertical-align: top;\n",
       "    }\n",
       "\n",
       "    .dataframe thead th {\n",
       "        text-align: right;\n",
       "    }\n",
       "</style>\n",
       "<table border=\"1\" class=\"dataframe\">\n",
       "  <thead>\n",
       "    <tr style=\"text-align: right;\">\n",
       "      <th></th>\n",
       "      <th>city_y</th>\n",
       "      <th>datetime</th>\n",
       "      <th>timezone_y</th>\n",
       "      <th>discharge_y</th>\n",
       "      <th>gauge_lvl_y</th>\n",
       "    </tr>\n",
       "  </thead>\n",
       "  <tbody>\n",
       "    <tr>\n",
       "      <th>0</th>\n",
       "      <td>Concrete</td>\n",
       "      <td>2007-10-01 01:00:00</td>\n",
       "      <td>PST</td>\n",
       "      <td>8350.0</td>\n",
       "      <td>15.87</td>\n",
       "    </tr>\n",
       "    <tr>\n",
       "      <th>1</th>\n",
       "      <td>Concrete</td>\n",
       "      <td>2007-10-01 01:15:00</td>\n",
       "      <td>PST</td>\n",
       "      <td>8320.0</td>\n",
       "      <td>15.86</td>\n",
       "    </tr>\n",
       "    <tr>\n",
       "      <th>2</th>\n",
       "      <td>Concrete</td>\n",
       "      <td>2007-10-01 01:30:00</td>\n",
       "      <td>PST</td>\n",
       "      <td>8350.0</td>\n",
       "      <td>15.87</td>\n",
       "    </tr>\n",
       "    <tr>\n",
       "      <th>3</th>\n",
       "      <td>Concrete</td>\n",
       "      <td>2007-10-01 01:45:00</td>\n",
       "      <td>PST</td>\n",
       "      <td>8370.0</td>\n",
       "      <td>15.88</td>\n",
       "    </tr>\n",
       "    <tr>\n",
       "      <th>4</th>\n",
       "      <td>Concrete</td>\n",
       "      <td>2007-10-01 02:00:00</td>\n",
       "      <td>PST</td>\n",
       "      <td>8450.0</td>\n",
       "      <td>15.91</td>\n",
       "    </tr>\n",
       "  </tbody>\n",
       "</table>\n",
       "</div>"
      ],
      "text/plain": [
       "     city_y            datetime timezone_y  discharge_y  gauge_lvl_y\n",
       "0  Concrete 2007-10-01 01:00:00        PST       8350.0        15.87\n",
       "1  Concrete 2007-10-01 01:15:00        PST       8320.0        15.86\n",
       "2  Concrete 2007-10-01 01:30:00        PST       8350.0        15.87\n",
       "3  Concrete 2007-10-01 01:45:00        PST       8370.0        15.88\n",
       "4  Concrete 2007-10-01 02:00:00        PST       8450.0        15.91"
      ]
     },
     "execution_count": 34,
     "metadata": {},
     "output_type": "execute_result"
    }
   ],
   "source": [
    "con.head()"
   ]
  },
  {
   "cell_type": "code",
   "execution_count": 35,
   "metadata": {},
   "outputs": [
    {
     "data": {
      "text/html": [
       "<div>\n",
       "<style scoped>\n",
       "    .dataframe tbody tr th:only-of-type {\n",
       "        vertical-align: middle;\n",
       "    }\n",
       "\n",
       "    .dataframe tbody tr th {\n",
       "        vertical-align: top;\n",
       "    }\n",
       "\n",
       "    .dataframe thead th {\n",
       "        text-align: right;\n",
       "    }\n",
       "</style>\n",
       "<table border=\"1\" class=\"dataframe\">\n",
       "  <thead>\n",
       "    <tr style=\"text-align: right;\">\n",
       "      <th></th>\n",
       "      <th>city_x</th>\n",
       "      <th>datetime</th>\n",
       "      <th>timezone_x</th>\n",
       "      <th>discharge_x</th>\n",
       "      <th>gauge_lvl_x</th>\n",
       "    </tr>\n",
       "  </thead>\n",
       "  <tbody>\n",
       "    <tr>\n",
       "      <th>0</th>\n",
       "      <td>Mount Vernon</td>\n",
       "      <td>2007-10-01 01:00:00</td>\n",
       "      <td>PST</td>\n",
       "      <td>7980.0</td>\n",
       "      <td>12.63</td>\n",
       "    </tr>\n",
       "    <tr>\n",
       "      <th>1</th>\n",
       "      <td>Mount Vernon</td>\n",
       "      <td>2007-10-01 01:15:00</td>\n",
       "      <td>PST</td>\n",
       "      <td>8000.0</td>\n",
       "      <td>12.64</td>\n",
       "    </tr>\n",
       "    <tr>\n",
       "      <th>2</th>\n",
       "      <td>Mount Vernon</td>\n",
       "      <td>2007-10-01 01:30:00</td>\n",
       "      <td>PST</td>\n",
       "      <td>8020.0</td>\n",
       "      <td>12.65</td>\n",
       "    </tr>\n",
       "    <tr>\n",
       "      <th>3</th>\n",
       "      <td>Mount Vernon</td>\n",
       "      <td>2007-10-01 01:45:00</td>\n",
       "      <td>PST</td>\n",
       "      <td>8060.0</td>\n",
       "      <td>12.66</td>\n",
       "    </tr>\n",
       "    <tr>\n",
       "      <th>4</th>\n",
       "      <td>Mount Vernon</td>\n",
       "      <td>2007-10-01 02:00:00</td>\n",
       "      <td>PST</td>\n",
       "      <td>8090.0</td>\n",
       "      <td>12.68</td>\n",
       "    </tr>\n",
       "  </tbody>\n",
       "</table>\n",
       "</div>"
      ],
      "text/plain": [
       "         city_x            datetime timezone_x  discharge_x  gauge_lvl_x\n",
       "0  Mount Vernon 2007-10-01 01:00:00        PST       7980.0        12.63\n",
       "1  Mount Vernon 2007-10-01 01:15:00        PST       8000.0        12.64\n",
       "2  Mount Vernon 2007-10-01 01:30:00        PST       8020.0        12.65\n",
       "3  Mount Vernon 2007-10-01 01:45:00        PST       8060.0        12.66\n",
       "4  Mount Vernon 2007-10-01 02:00:00        PST       8090.0        12.68"
      ]
     },
     "execution_count": 35,
     "metadata": {},
     "output_type": "execute_result"
    }
   ],
   "source": [
    "mv.head()"
   ]
  },
  {
   "cell_type": "code",
   "execution_count": 44,
   "metadata": {},
   "outputs": [],
   "source": [
    "con = con.rename(columns = {'city_y': 'city',\n",
    "                      'timezone_y': 'timezone', \n",
    "                      'discharge_y': 'discharge',\n",
    "                      'gauge_lvl_y': 'gauge_lvl'})"
   ]
  },
  {
   "cell_type": "code",
   "execution_count": 45,
   "metadata": {},
   "outputs": [],
   "source": [
    "mv = mv.rename(columns = {'city_x': 'city',\n",
    "                     'timezone_x': 'timezone', \n",
    "                     'discharge_x': 'discharge', \n",
    "                     'gauge_lvl_x': 'gauge_lvl'})"
   ]
  },
  {
   "cell_type": "code",
   "execution_count": 48,
   "metadata": {},
   "outputs": [
    {
     "name": "stdout",
     "output_type": "stream",
     "text": [
      "       city            datetime timezone  discharge  gauge_lvl\n",
      "0  Concrete 2007-10-01 01:00:00      PST     8350.0      15.87\n",
      "1  Concrete 2007-10-01 01:15:00      PST     8320.0      15.86\n",
      "2  Concrete 2007-10-01 01:30:00      PST     8350.0      15.87\n",
      "3  Concrete 2007-10-01 01:45:00      PST     8370.0      15.88\n",
      "4  Concrete 2007-10-01 02:00:00      PST     8450.0      15.91\n",
      "            city            datetime timezone  discharge  gauge_lvl\n",
      "431190  Concrete 2020-02-19 10:15:00      PST    13900.0      18.10\n",
      "431191  Concrete 2020-02-19 10:30:00      PST    13900.0      18.09\n",
      "431192  Concrete 2020-02-19 10:45:00      PST    13900.0      18.09\n",
      "431193  Concrete 2020-02-19 11:00:00      PST    14000.0      18.11\n",
      "431194  Concrete 2020-02-19 11:15:00      PST    13900.0      18.07\n"
     ]
    }
   ],
   "source": [
    "print(con.head())\n",
    "print(con.tail())"
   ]
  },
  {
   "cell_type": "code",
   "execution_count": 49,
   "metadata": {},
   "outputs": [
    {
     "name": "stdout",
     "output_type": "stream",
     "text": [
      "           city            datetime timezone  discharge  gauge_lvl\n",
      "0  Mount Vernon 2007-10-01 01:00:00      PST     7980.0      12.63\n",
      "1  Mount Vernon 2007-10-01 01:15:00      PST     8000.0      12.64\n",
      "2  Mount Vernon 2007-10-01 01:30:00      PST     8020.0      12.65\n",
      "3  Mount Vernon 2007-10-01 01:45:00      PST     8060.0      12.66\n",
      "4  Mount Vernon 2007-10-01 02:00:00      PST     8090.0      12.68\n",
      "                city            datetime timezone  discharge  gauge_lvl\n",
      "431190  Mount Vernon 2020-02-19 10:15:00      PST    17500.0      15.67\n",
      "431191  Mount Vernon 2020-02-19 10:30:00      PST    17500.0      15.66\n",
      "431192  Mount Vernon 2020-02-19 10:45:00      PST    17500.0      15.64\n",
      "431193  Mount Vernon 2020-02-19 11:00:00      PST    17500.0      15.64\n",
      "431194  Mount Vernon 2020-02-19 11:15:00      PST    17400.0      15.62\n"
     ]
    }
   ],
   "source": [
    "print(mv.head())\n",
    "print(mv.tail())"
   ]
  },
  {
   "cell_type": "code",
   "execution_count": 50,
   "metadata": {},
   "outputs": [],
   "source": [
    "con.to_csv('Datasets/cleaned_concrete_water.csv',index = False)\n",
    "mv.to_csv('Datasets/cleaned_mount_vernon_water.csv', index = False)"
   ]
  },
  {
   "cell_type": "code",
   "execution_count": null,
   "metadata": {},
   "outputs": [],
   "source": []
  }
 ],
 "metadata": {
  "kernelspec": {
   "display_name": "Python 3",
   "language": "python",
   "name": "python3"
  },
  "language_info": {
   "codemirror_mode": {
    "name": "ipython",
    "version": 3
   },
   "file_extension": ".py",
   "mimetype": "text/x-python",
   "name": "python",
   "nbconvert_exporter": "python",
   "pygments_lexer": "ipython3",
   "version": "3.7.4"
  }
 },
 "nbformat": 4,
 "nbformat_minor": 2
}
